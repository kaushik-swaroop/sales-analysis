{
 "cells": [
  {
   "cell_type": "code",
   "execution_count": 1,
   "id": "ad6a9afb",
   "metadata": {},
   "outputs": [
    {
     "name": "stdout",
     "output_type": "stream",
     "text": [
      "Hello World\n"
     ]
    }
   ],
   "source": [
    "print(\"Hello World\")"
   ]
  },
  {
   "cell_type": "code",
   "execution_count": 3,
   "id": "517985c9",
   "metadata": {},
   "outputs": [],
   "source": [
    "#We will be learning the basics of python in this notebook."
   ]
  },
  {
   "cell_type": "markdown",
   "id": "aad481b1",
   "metadata": {},
   "source": [
    "First let us begin with variable."
   ]
  },
  {
   "cell_type": "markdown",
   "id": "82d9628f",
   "metadata": {},
   "source": [
    "Variable"
   ]
  },
  {
   "cell_type": "markdown",
   "id": "a2a94064",
   "metadata": {},
   "source": [
    "# Variable"
   ]
  },
  {
   "cell_type": "code",
   "execution_count": 4,
   "id": "e6870651",
   "metadata": {},
   "outputs": [],
   "source": [
    "a = 10"
   ]
  },
  {
   "cell_type": "code",
   "execution_count": 5,
   "id": "438f24fd",
   "metadata": {},
   "outputs": [
    {
     "data": {
      "text/plain": [
       "10"
      ]
     },
     "execution_count": 5,
     "metadata": {},
     "output_type": "execute_result"
    }
   ],
   "source": [
    "a"
   ]
  },
  {
   "cell_type": "code",
   "execution_count": 6,
   "id": "5252ebca",
   "metadata": {},
   "outputs": [
    {
     "data": {
      "text/plain": [
       "20"
      ]
     },
     "execution_count": 6,
     "metadata": {},
     "output_type": "execute_result"
    }
   ],
   "source": [
    "b = 20\n",
    "b"
   ]
  },
  {
   "cell_type": "code",
   "execution_count": 10,
   "id": "9e8d7875",
   "metadata": {},
   "outputs": [],
   "source": [
    "name = \"Kaushik\""
   ]
  },
  {
   "cell_type": "code",
   "execution_count": 11,
   "id": "c25b636b",
   "metadata": {},
   "outputs": [
    {
     "data": {
      "text/plain": [
       "'Kaushik'"
      ]
     },
     "execution_count": 11,
     "metadata": {},
     "output_type": "execute_result"
    }
   ],
   "source": [
    "name"
   ]
  },
  {
   "cell_type": "code",
   "execution_count": 12,
   "id": "664ddb37",
   "metadata": {},
   "outputs": [
    {
     "data": {
      "text/plain": [
       "27"
      ]
     },
     "execution_count": 12,
     "metadata": {},
     "output_type": "execute_result"
    }
   ],
   "source": [
    "x = 15\n",
    "y = 12\n",
    "z = x+y\n",
    "z"
   ]
  },
  {
   "cell_type": "code",
   "execution_count": 13,
   "id": "02f54839",
   "metadata": {},
   "outputs": [
    {
     "data": {
      "text/plain": [
       "180"
      ]
     },
     "execution_count": 13,
     "metadata": {},
     "output_type": "execute_result"
    }
   ],
   "source": [
    "x*y"
   ]
  },
  {
   "cell_type": "code",
   "execution_count": 14,
   "id": "f141276d",
   "metadata": {},
   "outputs": [
    {
     "data": {
      "text/plain": [
       "3"
      ]
     },
     "execution_count": 14,
     "metadata": {},
     "output_type": "execute_result"
    }
   ],
   "source": [
    "k = 18\n",
    "k = 3\n",
    "k"
   ]
  },
  {
   "cell_type": "markdown",
   "id": "4dc4113b",
   "metadata": {},
   "source": [
    "# Rules of naming a variable\n",
    "\n",
    "* A variable name cannot contain a space.\n",
    "\n",
    "* The name of the variable cannot start with a number.\n",
    "\n",
    "* Variable name cannot contain dot.\n",
    "\n",
    "* A varaible name cannot contain special characters, the only special character which we can use is the underscore _\n",
    "\n",
    "* Python is case sensitive."
   ]
  },
  {
   "cell_type": "code",
   "execution_count": 15,
   "id": "0fbc5883",
   "metadata": {},
   "outputs": [
    {
     "ename": "SyntaxError",
     "evalue": "invalid syntax (<ipython-input-15-53c0d58e654d>, line 1)",
     "output_type": "error",
     "traceback": [
      "\u001b[1;36m  File \u001b[1;32m\"<ipython-input-15-53c0d58e654d>\"\u001b[1;36m, line \u001b[1;32m1\u001b[0m\n\u001b[1;33m    first name = 'Kaushik'\u001b[0m\n\u001b[1;37m          ^\u001b[0m\n\u001b[1;31mSyntaxError\u001b[0m\u001b[1;31m:\u001b[0m invalid syntax\n"
     ]
    }
   ],
   "source": [
    "first name = 'Kaushik'"
   ]
  },
  {
   "cell_type": "code",
   "execution_count": 16,
   "id": "86d4cbaf",
   "metadata": {},
   "outputs": [],
   "source": [
    "firstname='Kaushik'"
   ]
  },
  {
   "cell_type": "code",
   "execution_count": 17,
   "id": "3806ca9d",
   "metadata": {},
   "outputs": [
    {
     "ename": "SyntaxError",
     "evalue": "invalid syntax (<ipython-input-17-999449d38372>, line 1)",
     "output_type": "error",
     "traceback": [
      "\u001b[1;36m  File \u001b[1;32m\"<ipython-input-17-999449d38372>\"\u001b[1;36m, line \u001b[1;32m1\u001b[0m\n\u001b[1;33m    1name = 'k'\u001b[0m\n\u001b[1;37m     ^\u001b[0m\n\u001b[1;31mSyntaxError\u001b[0m\u001b[1;31m:\u001b[0m invalid syntax\n"
     ]
    }
   ],
   "source": [
    "1name = 'k'"
   ]
  },
  {
   "cell_type": "code",
   "execution_count": 18,
   "id": "3e176570",
   "metadata": {},
   "outputs": [],
   "source": [
    "name1 = 'k'"
   ]
  },
  {
   "cell_type": "code",
   "execution_count": 19,
   "id": "f2829db0",
   "metadata": {},
   "outputs": [
    {
     "ename": "NameError",
     "evalue": "name 'first' is not defined",
     "output_type": "error",
     "traceback": [
      "\u001b[1;31m---------------------------------------------------------------------------\u001b[0m",
      "\u001b[1;31mNameError\u001b[0m                                 Traceback (most recent call last)",
      "\u001b[1;32m<ipython-input-19-f933dbb2a2bc>\u001b[0m in \u001b[0;36m<module>\u001b[1;34m\u001b[0m\n\u001b[1;32m----> 1\u001b[1;33m \u001b[0mfirst\u001b[0m\u001b[1;33m.\u001b[0m\u001b[0mname\u001b[0m \u001b[1;33m=\u001b[0m\u001b[1;34m'k'\u001b[0m\u001b[1;33m\u001b[0m\u001b[1;33m\u001b[0m\u001b[0m\n\u001b[0m",
      "\u001b[1;31mNameError\u001b[0m: name 'first' is not defined"
     ]
    }
   ],
   "source": [
    "first.name ='k'"
   ]
  },
  {
   "cell_type": "code",
   "execution_count": 21,
   "id": "e74ab3f7",
   "metadata": {},
   "outputs": [
    {
     "ename": "SyntaxError",
     "evalue": "cannot assign to operator (<ipython-input-21-a1bb62a1df19>, line 1)",
     "output_type": "error",
     "traceback": [
      "\u001b[1;36m  File \u001b[1;32m\"<ipython-input-21-a1bb62a1df19>\"\u001b[1;36m, line \u001b[1;32m1\u001b[0m\n\u001b[1;33m    first&name = 'k'\u001b[0m\n\u001b[1;37m    ^\u001b[0m\n\u001b[1;31mSyntaxError\u001b[0m\u001b[1;31m:\u001b[0m cannot assign to operator\n"
     ]
    }
   ],
   "source": [
    "first&name = 'k'"
   ]
  },
  {
   "cell_type": "code",
   "execution_count": 23,
   "id": "ca8bade7",
   "metadata": {},
   "outputs": [
    {
     "data": {
      "text/plain": [
       "'K'"
      ]
     },
     "execution_count": 23,
     "metadata": {},
     "output_type": "execute_result"
    }
   ],
   "source": [
    "first_name = 'K'\n",
    "first_name"
   ]
  },
  {
   "cell_type": "code",
   "execution_count": 24,
   "id": "461de083",
   "metadata": {},
   "outputs": [
    {
     "ename": "NameError",
     "evalue": "name 'Name' is not defined",
     "output_type": "error",
     "traceback": [
      "\u001b[1;31m---------------------------------------------------------------------------\u001b[0m",
      "\u001b[1;31mNameError\u001b[0m                                 Traceback (most recent call last)",
      "\u001b[1;32m<ipython-input-24-8eaa258a40c2>\u001b[0m in \u001b[0;36m<module>\u001b[1;34m\u001b[0m\n\u001b[0;32m      1\u001b[0m \u001b[0mname\u001b[0m \u001b[1;33m=\u001b[0m \u001b[1;34m'Kaushik'\u001b[0m\u001b[1;33m\u001b[0m\u001b[1;33m\u001b[0m\u001b[0m\n\u001b[1;32m----> 2\u001b[1;33m \u001b[0mName\u001b[0m\u001b[1;33m\u001b[0m\u001b[1;33m\u001b[0m\u001b[0m\n\u001b[0m",
      "\u001b[1;31mNameError\u001b[0m: name 'Name' is not defined"
     ]
    }
   ],
   "source": [
    "name = 'Kaushik'\n",
    "Name"
   ]
  },
  {
   "cell_type": "code",
   "execution_count": 25,
   "id": "062f7acd",
   "metadata": {},
   "outputs": [],
   "source": [
    "CITY ='Delhi'"
   ]
  },
  {
   "cell_type": "code",
   "execution_count": 27,
   "id": "8c14cade",
   "metadata": {},
   "outputs": [
    {
     "data": {
      "text/plain": [
       "'Delhi'"
      ]
     },
     "execution_count": 27,
     "metadata": {},
     "output_type": "execute_result"
    }
   ],
   "source": [
    "CITY"
   ]
  },
  {
   "cell_type": "code",
   "execution_count": 30,
   "id": "6ab506c7",
   "metadata": {},
   "outputs": [
    {
     "data": {
      "text/plain": [
       "10"
      ]
     },
     "execution_count": 30,
     "metadata": {},
     "output_type": "execute_result"
    }
   ],
   "source": [
    "x = 20\n",
    "y = 10\n",
    "z = 5\n",
    "x\n",
    "z\n",
    "y"
   ]
  },
  {
   "cell_type": "code",
   "execution_count": 29,
   "id": "b84bc010",
   "metadata": {},
   "outputs": [
    {
     "name": "stdout",
     "output_type": "stream",
     "text": [
      "20\n",
      "10\n",
      "5\n"
     ]
    }
   ],
   "source": [
    "x = 20\n",
    "y = 10\n",
    "z = 5\n",
    "print(x)\n",
    "print(y)\n",
    "print(z)"
   ]
  },
  {
   "cell_type": "code",
   "execution_count": 34,
   "id": "6bcb2c10",
   "metadata": {},
   "outputs": [
    {
     "data": {
      "text/plain": [
       "'Amit'"
      ]
     },
     "execution_count": 34,
     "metadata": {},
     "output_type": "execute_result"
    }
   ],
   "source": [
    "# I want to store the employee names\n",
    "emp_name = 'Kaushik'\n",
    "emp_name = 'Amit'\n",
    "emp_name"
   ]
  },
  {
   "cell_type": "markdown",
   "id": "c6d692b4",
   "metadata": {},
   "source": [
    "# List\n",
    "\n",
    "List is an object where we can store multiple items under a single name. To create a List we would use\n",
    "a []"
   ]
  },
  {
   "cell_type": "code",
   "execution_count": 35,
   "id": "c57367d8",
   "metadata": {},
   "outputs": [
    {
     "data": {
      "text/plain": [
       "['Kaushik', 'Amit', 'Suba', 'Stephen', 'Ashwini']"
      ]
     },
     "execution_count": 35,
     "metadata": {},
     "output_type": "execute_result"
    }
   ],
   "source": [
    "emp_name = ['Kaushik','Amit','Suba','Stephen','Ashwini']\n",
    "emp_name"
   ]
  },
  {
   "cell_type": "code",
   "execution_count": 36,
   "id": "b0095a65",
   "metadata": {},
   "outputs": [
    {
     "data": {
      "text/plain": [
       "[10, 12, 13, 14, 15]"
      ]
     },
     "execution_count": 36,
     "metadata": {},
     "output_type": "execute_result"
    }
   ],
   "source": [
    "emp_age = [10,12,13,14,15]\n",
    "emp_age"
   ]
  },
  {
   "cell_type": "code",
   "execution_count": 37,
   "id": "8ecc069b",
   "metadata": {},
   "outputs": [
    {
     "data": {
      "text/plain": [
       "['Kaushik', 'Chennai', 'KPMG', 15]"
      ]
     },
     "execution_count": 37,
     "metadata": {},
     "output_type": "execute_result"
    }
   ],
   "source": [
    "emp = ['Kaushik','Chennai','KPMG',15]\n",
    "emp"
   ]
  },
  {
   "cell_type": "code",
   "execution_count": 38,
   "id": "8bc6fa9d",
   "metadata": {},
   "outputs": [
    {
     "data": {
      "text/plain": [
       "['Kaushik', 'Amit', 'Suba', 'Stephen', 'Ashwini']"
      ]
     },
     "execution_count": 38,
     "metadata": {},
     "output_type": "execute_result"
    }
   ],
   "source": [
    "emp_name"
   ]
  },
  {
   "cell_type": "code",
   "execution_count": 40,
   "id": "a9271be2",
   "metadata": {},
   "outputs": [
    {
     "data": {
      "text/plain": [
       "'Suba'"
      ]
     },
     "execution_count": 40,
     "metadata": {},
     "output_type": "execute_result"
    }
   ],
   "source": [
    "# If we want to extract a single element from a list, we can use the index\n",
    "emp_name[2]"
   ]
  },
  {
   "cell_type": "code",
   "execution_count": 41,
   "id": "5558d79f",
   "metadata": {},
   "outputs": [
    {
     "data": {
      "text/plain": [
       "'Kaushik'"
      ]
     },
     "execution_count": 41,
     "metadata": {},
     "output_type": "execute_result"
    }
   ],
   "source": [
    "emp_name[0]"
   ]
  },
  {
   "cell_type": "code",
   "execution_count": 42,
   "id": "0729b79a",
   "metadata": {},
   "outputs": [
    {
     "data": {
      "text/plain": [
       "'Ashwini'"
      ]
     },
     "execution_count": 42,
     "metadata": {},
     "output_type": "execute_result"
    }
   ],
   "source": [
    "emp_name[4]"
   ]
  },
  {
   "cell_type": "code",
   "execution_count": 43,
   "id": "fa7b37a2",
   "metadata": {},
   "outputs": [
    {
     "data": {
      "text/plain": [
       "'Ashwini'"
      ]
     },
     "execution_count": 43,
     "metadata": {},
     "output_type": "execute_result"
    }
   ],
   "source": [
    "emp_name[-1]"
   ]
  },
  {
   "cell_type": "code",
   "execution_count": 44,
   "id": "743ae37c",
   "metadata": {},
   "outputs": [
    {
     "data": {
      "text/plain": [
       "'Stephen'"
      ]
     },
     "execution_count": 44,
     "metadata": {},
     "output_type": "execute_result"
    }
   ],
   "source": [
    "emp_name[-2]"
   ]
  },
  {
   "cell_type": "code",
   "execution_count": 50,
   "id": "172ef064",
   "metadata": {},
   "outputs": [
    {
     "data": {
      "text/plain": [
       "['Kaushik', 'Amit', 'Suba']"
      ]
     },
     "execution_count": 50,
     "metadata": {},
     "output_type": "execute_result"
    }
   ],
   "source": [
    "#If we want to extract the first 3 elements\n",
    "emp_name[0:3]"
   ]
  },
  {
   "cell_type": "code",
   "execution_count": 46,
   "id": "5267cf4e",
   "metadata": {},
   "outputs": [
    {
     "data": {
      "text/plain": [
       "['Amit', 'Suba', 'Stephen']"
      ]
     },
     "execution_count": 46,
     "metadata": {},
     "output_type": "execute_result"
    }
   ],
   "source": [
    "emp_name[1:4]"
   ]
  },
  {
   "cell_type": "code",
   "execution_count": 51,
   "id": "4f995566",
   "metadata": {},
   "outputs": [
    {
     "data": {
      "text/plain": [
       "['Kaushik', 'Amit', 'Suba', 'Stephen', 'Ashwini']"
      ]
     },
     "execution_count": 51,
     "metadata": {},
     "output_type": "execute_result"
    }
   ],
   "source": [
    "emp_name"
   ]
  },
  {
   "cell_type": "code",
   "execution_count": 52,
   "id": "56d0b10c",
   "metadata": {},
   "outputs": [
    {
     "data": {
      "text/plain": [
       "5"
      ]
     },
     "execution_count": 52,
     "metadata": {},
     "output_type": "execute_result"
    }
   ],
   "source": [
    "# To count the number of elements in the list we can use the len function\n",
    "len(emp_name)"
   ]
  },
  {
   "cell_type": "code",
   "execution_count": 53,
   "id": "b7bff26c",
   "metadata": {},
   "outputs": [
    {
     "data": {
      "text/plain": [
       "'Suba'"
      ]
     },
     "execution_count": 53,
     "metadata": {},
     "output_type": "execute_result"
    }
   ],
   "source": [
    "emp_name[2]"
   ]
  },
  {
   "cell_type": "code",
   "execution_count": 54,
   "id": "00f5535e",
   "metadata": {},
   "outputs": [
    {
     "data": {
      "text/plain": [
       "2"
      ]
     },
     "execution_count": 54,
     "metadata": {},
     "output_type": "execute_result"
    }
   ],
   "source": [
    "emp_name.index('Suba')"
   ]
  },
  {
   "cell_type": "code",
   "execution_count": 55,
   "id": "b9e9e411",
   "metadata": {},
   "outputs": [
    {
     "data": {
      "text/plain": [
       "['Kaushik', 'Amit', 'Suba', 'Stephen', 'Ashwini']"
      ]
     },
     "execution_count": 55,
     "metadata": {},
     "output_type": "execute_result"
    }
   ],
   "source": [
    "#Replacing an element in a list\n",
    "emp_name"
   ]
  },
  {
   "cell_type": "code",
   "execution_count": 57,
   "id": "b3c58e2f",
   "metadata": {},
   "outputs": [],
   "source": [
    "emp_name[4] = \"Nayana\""
   ]
  },
  {
   "cell_type": "code",
   "execution_count": 58,
   "id": "7b6d48a7",
   "metadata": {},
   "outputs": [
    {
     "data": {
      "text/plain": [
       "['Kaushik', 'Amit', 'Suba', 'Stephen', 'Nayana']"
      ]
     },
     "execution_count": 58,
     "metadata": {},
     "output_type": "execute_result"
    }
   ],
   "source": [
    "emp_name"
   ]
  },
  {
   "cell_type": "code",
   "execution_count": 59,
   "id": "7d9b1dbe",
   "metadata": {},
   "outputs": [],
   "source": [
    "emp_name[3] = 'Pranab'"
   ]
  },
  {
   "cell_type": "code",
   "execution_count": 60,
   "id": "b73ea778",
   "metadata": {},
   "outputs": [
    {
     "data": {
      "text/plain": [
       "['Kaushik', 'Amit', 'Suba', 'Pranab', 'Nayana']"
      ]
     },
     "execution_count": 60,
     "metadata": {},
     "output_type": "execute_result"
    }
   ],
   "source": [
    "emp_name"
   ]
  },
  {
   "cell_type": "code",
   "execution_count": 61,
   "id": "fabcc5d7",
   "metadata": {},
   "outputs": [
    {
     "ename": "IndexError",
     "evalue": "list assignment index out of range",
     "output_type": "error",
     "traceback": [
      "\u001b[1;31m---------------------------------------------------------------------------\u001b[0m",
      "\u001b[1;31mIndexError\u001b[0m                                Traceback (most recent call last)",
      "\u001b[1;32m<ipython-input-61-e156b239d966>\u001b[0m in \u001b[0;36m<module>\u001b[1;34m\u001b[0m\n\u001b[0;32m      1\u001b[0m \u001b[1;31m# Adding elements to the list\u001b[0m\u001b[1;33m\u001b[0m\u001b[1;33m\u001b[0m\u001b[1;33m\u001b[0m\u001b[0m\n\u001b[1;32m----> 2\u001b[1;33m \u001b[0memp_name\u001b[0m\u001b[1;33m[\u001b[0m\u001b[1;36m5\u001b[0m\u001b[1;33m]\u001b[0m \u001b[1;33m=\u001b[0m \u001b[1;34m'Akshay'\u001b[0m\u001b[1;33m\u001b[0m\u001b[1;33m\u001b[0m\u001b[0m\n\u001b[0m",
      "\u001b[1;31mIndexError\u001b[0m: list assignment index out of range"
     ]
    }
   ],
   "source": [
    "# Adding elements to the list\n",
    "emp_name[5] = 'Akshay'"
   ]
  },
  {
   "cell_type": "code",
   "execution_count": 62,
   "id": "edcf258c",
   "metadata": {},
   "outputs": [],
   "source": [
    "# If we want to add an element at the end of the list, we can use the append function\n",
    "emp_name.append('Akshay')"
   ]
  },
  {
   "cell_type": "code",
   "execution_count": 63,
   "id": "854d36e3",
   "metadata": {},
   "outputs": [
    {
     "data": {
      "text/plain": [
       "['Kaushik', 'Amit', 'Suba', 'Pranab', 'Nayana', 'Akshay']"
      ]
     },
     "execution_count": 63,
     "metadata": {},
     "output_type": "execute_result"
    }
   ],
   "source": [
    "emp_name"
   ]
  },
  {
   "cell_type": "code",
   "execution_count": 65,
   "id": "6b5f4788",
   "metadata": {},
   "outputs": [],
   "source": [
    "# To add elements in middle of the list, we can use the insert function.\n",
    "# I want to add an element between Suba and Pranab\n",
    "emp_name.insert(3,'Prem')"
   ]
  },
  {
   "cell_type": "code",
   "execution_count": 66,
   "id": "28265eb1",
   "metadata": {},
   "outputs": [
    {
     "data": {
      "text/plain": [
       "['Kaushik', 'Amit', 'Suba', 'Prem', 'Pranab', 'Nayana', 'Akshay']"
      ]
     },
     "execution_count": 66,
     "metadata": {},
     "output_type": "execute_result"
    }
   ],
   "source": [
    "emp_name"
   ]
  },
  {
   "cell_type": "code",
   "execution_count": 67,
   "id": "59318ff9",
   "metadata": {},
   "outputs": [],
   "source": [
    "del emp_name[3]"
   ]
  },
  {
   "cell_type": "code",
   "execution_count": 68,
   "id": "17ccabe6",
   "metadata": {},
   "outputs": [
    {
     "data": {
      "text/plain": [
       "['Kaushik', 'Amit', 'Suba', 'Pranab', 'Nayana', 'Akshay']"
      ]
     },
     "execution_count": 68,
     "metadata": {},
     "output_type": "execute_result"
    }
   ],
   "source": [
    "emp_name"
   ]
  },
  {
   "cell_type": "code",
   "execution_count": 69,
   "id": "7fdc63d5",
   "metadata": {},
   "outputs": [
    {
     "data": {
      "text/plain": [
       "['Kaushik', 'Amit', 'Suba', 'Prem', 'Nayana', 'Akshay']"
      ]
     },
     "execution_count": 69,
     "metadata": {},
     "output_type": "execute_result"
    }
   ],
   "source": [
    "del emp_name[3]\n",
    "emp_name.insert(3,'Prem')\n",
    "emp_name"
   ]
  },
  {
   "cell_type": "markdown",
   "id": "48d254bb",
   "metadata": {},
   "source": [
    "# Dictionary"
   ]
  },
  {
   "cell_type": "markdown",
   "id": "32d72ab0",
   "metadata": {},
   "source": [
    "Dictionary is a data structure where we can store the values in the form of key-value pair. To create a dictionary we would use the {}"
   ]
  },
  {
   "cell_type": "code",
   "execution_count": 70,
   "id": "308a7e82",
   "metadata": {},
   "outputs": [],
   "source": [
    "emp_details = {'emp_name':['Kaushik','Amit','Suba','Pranab']}"
   ]
  },
  {
   "cell_type": "code",
   "execution_count": 71,
   "id": "2ee1d0b8",
   "metadata": {},
   "outputs": [
    {
     "data": {
      "text/plain": [
       "{'emp_name': ['Kaushik', 'Amit', 'Suba', 'Pranab']}"
      ]
     },
     "execution_count": 71,
     "metadata": {},
     "output_type": "execute_result"
    }
   ],
   "source": [
    "emp_details"
   ]
  },
  {
   "cell_type": "code",
   "execution_count": 75,
   "id": "883757d7",
   "metadata": {},
   "outputs": [],
   "source": [
    "emp_details = {'emp_name':['Kaushik','Amit','Suba','Pranab'],\n",
    "              'emp_age':[20,21,22,23],\n",
    "              'emp_location':['Chennai','Delhi','Coimbatore','Pune'],\n",
    "              'emp_salary':[100,200,300,400]}"
   ]
  },
  {
   "cell_type": "code",
   "execution_count": 73,
   "id": "b0e62aa9",
   "metadata": {},
   "outputs": [
    {
     "data": {
      "text/plain": [
       "{'emp_name': ['Kaushik', 'Amit', 'Suba', 'Pranab'],\n",
       " 'emp_age': [20, 21, 22, 23],\n",
       " 'emp_location': ['Chennai', 'Delhi', 'Coimbatore', 'Pune'],\n",
       " 'emp_salary': [100, 200, 300, 400]}"
      ]
     },
     "execution_count": 73,
     "metadata": {},
     "output_type": "execute_result"
    }
   ],
   "source": [
    "emp_details"
   ]
  },
  {
   "cell_type": "code",
   "execution_count": 80,
   "id": "6b38e3d7",
   "metadata": {},
   "outputs": [
    {
     "data": {
      "text/plain": [
       "{'emp_name': ['Kaushik', 'Amit', 'Suba', 'Pranab'],\n",
       " 'emp_age': [20, 21, 22, 23],\n",
       " 'emp_location': ['Chennai', 'Delhi', 'Coimbatore', 'Pune', 'Mumbai'],\n",
       " 'emp_salary': [100, 200, 300, 400]}"
      ]
     },
     "execution_count": 80,
     "metadata": {},
     "output_type": "execute_result"
    }
   ],
   "source": [
    "emp_details = {'emp_name':['Kaushik','Amit','Suba','Pranab'],\n",
    "              'emp_age':[20,21,22,23],\n",
    "              'emp_location':['Chennai','Delhi','Coimbatore','Pune','Mumbai'],\n",
    "              'emp_salary':[100,200,300,400]}\n",
    "emp_details"
   ]
  },
  {
   "cell_type": "code",
   "execution_count": 76,
   "id": "4404f8ec",
   "metadata": {},
   "outputs": [
    {
     "ename": "KeyError",
     "evalue": "2",
     "output_type": "error",
     "traceback": [
      "\u001b[1;31m---------------------------------------------------------------------------\u001b[0m",
      "\u001b[1;31mKeyError\u001b[0m                                  Traceback (most recent call last)",
      "\u001b[1;32m<ipython-input-76-7abbc666ee0e>\u001b[0m in \u001b[0;36m<module>\u001b[1;34m\u001b[0m\n\u001b[1;32m----> 1\u001b[1;33m \u001b[0memp_details\u001b[0m\u001b[1;33m[\u001b[0m\u001b[1;36m2\u001b[0m\u001b[1;33m]\u001b[0m\u001b[1;33m\u001b[0m\u001b[1;33m\u001b[0m\u001b[0m\n\u001b[0m",
      "\u001b[1;31mKeyError\u001b[0m: 2"
     ]
    }
   ],
   "source": [
    "emp_details[2]"
   ]
  },
  {
   "cell_type": "code",
   "execution_count": 77,
   "id": "949b3333",
   "metadata": {},
   "outputs": [
    {
     "data": {
      "text/plain": [
       "{'emp_name': ['Kaushik', 'Amit', 'Suba', 'Pranab'],\n",
       " 'emp_age': [20, 21, 22, 23],\n",
       " 24: ['Chennai', 'Delhi', 'Coimbatore', 'Pune', 'Mumbai'],\n",
       " 'emp_salary': [100, 200, 300, 400]}"
      ]
     },
     "execution_count": 77,
     "metadata": {},
     "output_type": "execute_result"
    }
   ],
   "source": [
    "emp_details = {'emp_name':['Kaushik','Amit','Suba','Pranab'],\n",
    "              'emp_age':[20,21,22,23],\n",
    "              24:['Chennai','Delhi','Coimbatore','Pune','Mumbai'],\n",
    "              'emp_salary':[100,200,300,400]}\n",
    "emp_details"
   ]
  },
  {
   "cell_type": "code",
   "execution_count": 78,
   "id": "341b8de1",
   "metadata": {},
   "outputs": [
    {
     "data": {
      "text/plain": [
       "['Chennai', 'Delhi', 'Coimbatore', 'Pune', 'Mumbai']"
      ]
     },
     "execution_count": 78,
     "metadata": {},
     "output_type": "execute_result"
    }
   ],
   "source": [
    "emp_details[24]"
   ]
  },
  {
   "cell_type": "code",
   "execution_count": 79,
   "id": "d03a3195",
   "metadata": {},
   "outputs": [
    {
     "data": {
      "text/plain": [
       "[100, 200, 300, 400]"
      ]
     },
     "execution_count": 79,
     "metadata": {},
     "output_type": "execute_result"
    }
   ],
   "source": [
    "emp_details['emp_salary']"
   ]
  },
  {
   "cell_type": "code",
   "execution_count": 82,
   "id": "187d1949",
   "metadata": {},
   "outputs": [
    {
     "data": {
      "text/plain": [
       "'Coimbatore'"
      ]
     },
     "execution_count": 82,
     "metadata": {},
     "output_type": "execute_result"
    }
   ],
   "source": [
    "emp_details['emp_location'][2]"
   ]
  },
  {
   "cell_type": "code",
   "execution_count": 90,
   "id": "e7c8c1d8",
   "metadata": {},
   "outputs": [
    {
     "data": {
      "text/plain": [
       "{'emp_name': ['Kaushik', 'Amit', 'Suba', 'Pranab'],\n",
       " 'emp_age': [20, 21, 22, 23],\n",
       " 'emp_location': ['Chennai', 'Delhi', 'Coimbatore', 'Pune'],\n",
       " 'emp_salary': [100, 200, 300, 400]}"
      ]
     },
     "execution_count": 90,
     "metadata": {},
     "output_type": "execute_result"
    }
   ],
   "source": [
    "emp_details = {'emp_name':['Kaushik','Amit','Suba','Pranab'],\n",
    "              'emp_age':[20,21,22,23],\n",
    "              'emp_location':['Chennai','Delhi','Coimbatore','Pune'],\n",
    "              'emp_salary':[100,200,300,400]}\n",
    "emp_details"
   ]
  },
  {
   "cell_type": "markdown",
   "id": "f8ca77ab",
   "metadata": {},
   "source": [
    "# Dataframe"
   ]
  },
  {
   "cell_type": "code",
   "execution_count": 85,
   "id": "da3a51f1",
   "metadata": {},
   "outputs": [],
   "source": [
    "#To work with dataframe we need a package called as pandas\n",
    "import pandas"
   ]
  },
  {
   "cell_type": "code",
   "execution_count": 91,
   "id": "74c62112",
   "metadata": {},
   "outputs": [],
   "source": [
    "emp_df = pandas.DataFrame(emp_details)"
   ]
  },
  {
   "cell_type": "code",
   "execution_count": 92,
   "id": "ac67c09a",
   "metadata": {},
   "outputs": [
    {
     "data": {
      "text/html": [
       "<div>\n",
       "<style scoped>\n",
       "    .dataframe tbody tr th:only-of-type {\n",
       "        vertical-align: middle;\n",
       "    }\n",
       "\n",
       "    .dataframe tbody tr th {\n",
       "        vertical-align: top;\n",
       "    }\n",
       "\n",
       "    .dataframe thead th {\n",
       "        text-align: right;\n",
       "    }\n",
       "</style>\n",
       "<table border=\"1\" class=\"dataframe\">\n",
       "  <thead>\n",
       "    <tr style=\"text-align: right;\">\n",
       "      <th></th>\n",
       "      <th>emp_name</th>\n",
       "      <th>emp_age</th>\n",
       "      <th>emp_location</th>\n",
       "      <th>emp_salary</th>\n",
       "    </tr>\n",
       "  </thead>\n",
       "  <tbody>\n",
       "    <tr>\n",
       "      <th>0</th>\n",
       "      <td>Kaushik</td>\n",
       "      <td>20</td>\n",
       "      <td>Chennai</td>\n",
       "      <td>100</td>\n",
       "    </tr>\n",
       "    <tr>\n",
       "      <th>1</th>\n",
       "      <td>Amit</td>\n",
       "      <td>21</td>\n",
       "      <td>Delhi</td>\n",
       "      <td>200</td>\n",
       "    </tr>\n",
       "    <tr>\n",
       "      <th>2</th>\n",
       "      <td>Suba</td>\n",
       "      <td>22</td>\n",
       "      <td>Coimbatore</td>\n",
       "      <td>300</td>\n",
       "    </tr>\n",
       "    <tr>\n",
       "      <th>3</th>\n",
       "      <td>Pranab</td>\n",
       "      <td>23</td>\n",
       "      <td>Pune</td>\n",
       "      <td>400</td>\n",
       "    </tr>\n",
       "  </tbody>\n",
       "</table>\n",
       "</div>"
      ],
      "text/plain": [
       "  emp_name  emp_age emp_location  emp_salary\n",
       "0  Kaushik       20      Chennai         100\n",
       "1     Amit       21        Delhi         200\n",
       "2     Suba       22   Coimbatore         300\n",
       "3   Pranab       23         Pune         400"
      ]
     },
     "execution_count": 92,
     "metadata": {},
     "output_type": "execute_result"
    }
   ],
   "source": [
    "emp_df"
   ]
  },
  {
   "cell_type": "markdown",
   "id": "1840e059",
   "metadata": {},
   "source": [
    "# DataFrame"
   ]
  },
  {
   "cell_type": "code",
   "execution_count": null,
   "id": "49a45875",
   "metadata": {},
   "outputs": [],
   "source": []
  }
 ],
 "metadata": {
  "kernelspec": {
   "display_name": "Python 3",
   "language": "python",
   "name": "python3"
  },
  "language_info": {
   "codemirror_mode": {
    "name": "ipython",
    "version": 3
   },
   "file_extension": ".py",
   "mimetype": "text/x-python",
   "name": "python",
   "nbconvert_exporter": "python",
   "pygments_lexer": "ipython3",
   "version": "3.8.8"
  }
 },
 "nbformat": 4,
 "nbformat_minor": 5
}
